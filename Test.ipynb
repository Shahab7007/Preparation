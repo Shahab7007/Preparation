{
 "cells": [
  {
   "cell_type": "code",
   "execution_count": 2,
   "id": "initial_id",
   "metadata": {
    "collapsed": true,
    "ExecuteTime": {
     "end_time": "2024-06-13T17:01:52.622388Z",
     "start_time": "2024-06-13T17:01:52.276317Z"
    }
   },
   "outputs": [
    {
     "data": {
      "text/plain": "     secured probable possible speculative biso budget income  \\\n0  327.62628      NaN      NaN         NaN    0           327   \n1  310.62415      NaN      NaN         NaN    0           335   \n2  342.78931      NaN      NaN         NaN    0           339   \n3  359.12084      NaN      NaN         NaN    0           339   \n4  284.69204      NaN      NaN         NaN    0           348   \n\n  other direct costs direct costs gross profit budget gross profit  ...  \\\n0         -192.95897   -192.95897    134.66731          130.913071  ...   \n1         -203.26208   -203.26208    107.36207          145.448787  ...   \n2         -223.41445   -223.41445    119.37486           140.36377  ...   \n3         -241.03062   -241.03062    118.09022           92.033996  ...   \n4          -221.9465    -221.9465     62.74554           90.514258  ...   \n\n  budget profit tech headcount income / hd  cost / hd t&t staff costs  \\\n0     89.350302      47.451436   82.853454  -48.79742      -168.91451   \n1    102.983233      47.451436   78.553783 -51.402975       -172.2218   \n2     96.231208      47.451436   86.688034  -56.49931      -187.51722   \n3     38.607935      46.451436   92.773237 -62.266481      -214.22328   \n4     36.951377      43.136436   79.197653 -61.742653      -198.26963   \n\n  contract staff costs expenses t&t technical staff contract staff  \\\n0             -19.2302 -4.81426           44.451436              3   \n1             -24.3862 -6.65408           44.451436              3   \n2                -32.4 -3.49723           44.451436              3   \n3               -22.21 -4.59734           43.451436              3   \n4             -18.7048 -4.97207           41.136436              2   \n\n  total headcount  \n0       47.451436  \n1       47.451436  \n2       47.451436  \n3       46.451436  \n4       43.136436  \n\n[5 rows x 23 columns]",
      "text/html": "<div>\n<style scoped>\n    .dataframe tbody tr th:only-of-type {\n        vertical-align: middle;\n    }\n\n    .dataframe tbody tr th {\n        vertical-align: top;\n    }\n\n    .dataframe thead th {\n        text-align: right;\n    }\n</style>\n<table border=\"1\" class=\"dataframe\">\n  <thead>\n    <tr style=\"text-align: right;\">\n      <th></th>\n      <th>secured</th>\n      <th>probable</th>\n      <th>possible</th>\n      <th>speculative</th>\n      <th>biso</th>\n      <th>budget income</th>\n      <th>other direct costs</th>\n      <th>direct costs</th>\n      <th>gross profit</th>\n      <th>budget gross profit</th>\n      <th>...</th>\n      <th>budget profit</th>\n      <th>tech headcount</th>\n      <th>income / hd</th>\n      <th>cost / hd</th>\n      <th>t&amp;t staff costs</th>\n      <th>contract staff costs</th>\n      <th>expenses</th>\n      <th>t&amp;t technical staff</th>\n      <th>contract staff</th>\n      <th>total headcount</th>\n    </tr>\n  </thead>\n  <tbody>\n    <tr>\n      <th>0</th>\n      <td>327.62628</td>\n      <td>NaN</td>\n      <td>NaN</td>\n      <td>NaN</td>\n      <td>0</td>\n      <td>327</td>\n      <td>-192.95897</td>\n      <td>-192.95897</td>\n      <td>134.66731</td>\n      <td>130.913071</td>\n      <td>...</td>\n      <td>89.350302</td>\n      <td>47.451436</td>\n      <td>82.853454</td>\n      <td>-48.79742</td>\n      <td>-168.91451</td>\n      <td>-19.2302</td>\n      <td>-4.81426</td>\n      <td>44.451436</td>\n      <td>3</td>\n      <td>47.451436</td>\n    </tr>\n    <tr>\n      <th>1</th>\n      <td>310.62415</td>\n      <td>NaN</td>\n      <td>NaN</td>\n      <td>NaN</td>\n      <td>0</td>\n      <td>335</td>\n      <td>-203.26208</td>\n      <td>-203.26208</td>\n      <td>107.36207</td>\n      <td>145.448787</td>\n      <td>...</td>\n      <td>102.983233</td>\n      <td>47.451436</td>\n      <td>78.553783</td>\n      <td>-51.402975</td>\n      <td>-172.2218</td>\n      <td>-24.3862</td>\n      <td>-6.65408</td>\n      <td>44.451436</td>\n      <td>3</td>\n      <td>47.451436</td>\n    </tr>\n    <tr>\n      <th>2</th>\n      <td>342.78931</td>\n      <td>NaN</td>\n      <td>NaN</td>\n      <td>NaN</td>\n      <td>0</td>\n      <td>339</td>\n      <td>-223.41445</td>\n      <td>-223.41445</td>\n      <td>119.37486</td>\n      <td>140.36377</td>\n      <td>...</td>\n      <td>96.231208</td>\n      <td>47.451436</td>\n      <td>86.688034</td>\n      <td>-56.49931</td>\n      <td>-187.51722</td>\n      <td>-32.4</td>\n      <td>-3.49723</td>\n      <td>44.451436</td>\n      <td>3</td>\n      <td>47.451436</td>\n    </tr>\n    <tr>\n      <th>3</th>\n      <td>359.12084</td>\n      <td>NaN</td>\n      <td>NaN</td>\n      <td>NaN</td>\n      <td>0</td>\n      <td>339</td>\n      <td>-241.03062</td>\n      <td>-241.03062</td>\n      <td>118.09022</td>\n      <td>92.033996</td>\n      <td>...</td>\n      <td>38.607935</td>\n      <td>46.451436</td>\n      <td>92.773237</td>\n      <td>-62.266481</td>\n      <td>-214.22328</td>\n      <td>-22.21</td>\n      <td>-4.59734</td>\n      <td>43.451436</td>\n      <td>3</td>\n      <td>46.451436</td>\n    </tr>\n    <tr>\n      <th>4</th>\n      <td>284.69204</td>\n      <td>NaN</td>\n      <td>NaN</td>\n      <td>NaN</td>\n      <td>0</td>\n      <td>348</td>\n      <td>-221.9465</td>\n      <td>-221.9465</td>\n      <td>62.74554</td>\n      <td>90.514258</td>\n      <td>...</td>\n      <td>36.951377</td>\n      <td>43.136436</td>\n      <td>79.197653</td>\n      <td>-61.742653</td>\n      <td>-198.26963</td>\n      <td>-18.7048</td>\n      <td>-4.97207</td>\n      <td>41.136436</td>\n      <td>2</td>\n      <td>43.136436</td>\n    </tr>\n  </tbody>\n</table>\n<p>5 rows × 23 columns</p>\n</div>"
     },
     "execution_count": 2,
     "metadata": {},
     "output_type": "execute_result"
    }
   ],
   "source": [
    "import pandas as pd\n",
    "\n",
    "# Load the data from the Excel file again, specifying no header to properly identify the row\n",
    "file_path = \"Blank Forecast Template.xlsx\"\n",
    "# Load the data from the Excel file again, specifying no header to properly identify the row\n",
    "data = pd.read_excel(file_path, sheet_name='CC X', header=None)\n",
    "\n",
    "# List of variables to extract (in lower case)\n",
    "variables_to_extract = [\n",
    "    \"secured\", \"probable\", \"possible\", \"speculative\", \"biso\", \"budget income\",\n",
    "    \"other direct costs\", \"direct costs\", \"gross profit\", \"budget gross profit\",\n",
    "    \"overheads\", \"subcon profit/(loss)\", \"net profit\", \"budget profit\",\n",
    "    \"tech headcount\", \"income / hd\", \"cost / hd\", \"t&t staff costs\",\n",
    "    \"contract staff costs\", \"expenses\", \"other direct costs\", \"t&t technical staff\",\n",
    "    \"contract staff\", \"total headcount\"\n",
    "]\n",
    "\n",
    "variables_to_extract = [var.strip().lower() for var in variables_to_extract]\n",
    "\n",
    "# Initialize an empty dictionary to hold data for each variable\n",
    "data_dict = {var: [] for var in variables_to_extract}\n",
    "\n",
    "# Standardize the text by converting to lower case and stripping extra spaces\n",
    "data_r = data.applymap(lambda x: x.strip().lower() if isinstance(x, str) else x)\n",
    "\n",
    "# Extract data for these variables, maintaining row order\n",
    "for index, row in data_r.iterrows():\n",
    "    if row[5] in variables_to_extract:\n",
    "        data_dict[row[5]].append(row[10:22].values)\n",
    "    if row[6] in variables_to_extract:\n",
    "        data_dict[row[6]].append(row[10:22].values)\n",
    "    if row[7] in variables_to_extract:\n",
    "        data_dict[row[7]].append(row[10:22].values)\n",
    "\n",
    "# Combine data into a structured dataframe\n",
    "extracted_data = pd.DataFrame()\n",
    "for var in variables_to_extract:\n",
    "    if data_dict[var]:\n",
    "        extracted_data[var] = pd.Series(data_dict[var][0])\n",
    "\n",
    "extracted_data.head()"
   ]
  },
  {
   "cell_type": "code",
   "outputs": [],
   "source": [
    "var_dict = {\"budget income\": \"budget_income\", \"other direct costs\": \"other_direct_costs\", \"direct costs\": \"direct_costs\",\"gross profit\":\"gross_profit\",\"budget gross profit\":\"budget_profit\",\"tech headcount\":\"tech_headcount\",\"income / hd\":\"income/hd\",\"cost / hd\":\"cost/hd\",\"t&t staff costs\":\"t_staff_costs\",\"contract staff costs\": \"contract_staff_costs\",\"t&t technical staff\":\"t_technical_staff\",\"contract staff\":\"contract_staff\",\"total headcount\":\"total_headcount\"}"
   ],
   "metadata": {
    "collapsed": false,
    "ExecuteTime": {
     "end_time": "2024-06-11T22:58:15.108095Z",
     "start_time": "2024-06-11T22:58:15.104089Z"
    }
   },
   "id": "a6565446f090f509",
   "execution_count": 12
  },
  {
   "cell_type": "code",
   "outputs": [
    {
     "data": {
      "text/plain": "24"
     },
     "execution_count": 9,
     "metadata": {},
     "output_type": "execute_result"
    }
   ],
   "source": [
    "len(variables_to_extract)"
   ],
   "metadata": {
    "collapsed": false,
    "ExecuteTime": {
     "end_time": "2024-06-11T22:35:20.192514Z",
     "start_time": "2024-06-11T22:35:20.186498Z"
    }
   },
   "id": "acc8edb82671f218",
   "execution_count": 9
  },
  {
   "cell_type": "code",
   "outputs": [],
   "source": [
    "extracted_data.rename(columns=var_dict,inplace=True)"
   ],
   "metadata": {
    "collapsed": false,
    "ExecuteTime": {
     "end_time": "2024-06-11T22:58:17.864427Z",
     "start_time": "2024-06-11T22:58:17.847423Z"
    }
   },
   "id": "c9c034d11b655ebb",
   "execution_count": 13
  },
  {
   "cell_type": "code",
   "outputs": [
    {
     "data": {
      "text/plain": "      secured probable possible speculative biso budget_income  \\\n0   327.62628      NaN      NaN         NaN    0           327   \n1   310.62415      NaN      NaN         NaN    0           335   \n2   342.78931      NaN      NaN         NaN    0           339   \n3   359.12084      NaN      NaN         NaN    0           339   \n4   284.69204      NaN      NaN         NaN    0           348   \n5   299.16854      NaN      NaN         NaN    0           364   \n6   270.88371      NaN      NaN         NaN    0           351   \n7   253.96615      NaN      NaN         NaN    0           354   \n8   229.41306      NaN      NaN         NaN    0           335   \n9   281.66019      NaN      NaN         NaN    0           388   \n10   284.4343      NaN      NaN         NaN    0           388   \n11  282.89593      NaN      NaN         NaN    0           399   \n\n   other_direct_costs direct_costs gross_profit budget_profit  ...  \\\n0          -192.95897   -192.95897    134.66731    130.913071  ...   \n1          -203.26208   -203.26208    107.36207    145.448787  ...   \n2          -223.41445   -223.41445    119.37486     140.36377  ...   \n3          -241.03062   -241.03062    118.09022     92.033996  ...   \n4           -221.9465    -221.9465     62.74554     90.514258  ...   \n5          -222.45408   -222.45408     76.71446    104.867842  ...   \n6          -284.78878   -284.78878    -13.90507     93.514258  ...   \n7           -209.7019    -209.7019     44.26425     97.814258  ...   \n8          -203.36116   -203.36116      26.0519     75.867842  ...   \n9          -196.91873   -196.91873     84.74146    129.514258  ...   \n10         -198.16814   -198.16814     86.26616    129.414258  ...   \n11         -294.59603   -294.59603     -11.7001    147.000026  ...   \n\n   budget profit tech_headcount  income/hd    cost/hd t_staff_costs  \\\n0      89.350302      47.451436  82.853454  -48.79742    -168.91451   \n1     102.983233      47.451436  78.553783 -51.402975     -172.2218   \n2      96.231208      47.451436  86.688034  -56.49931    -187.51722   \n3      38.607935      46.451436  92.773237 -62.266481    -214.22328   \n4      36.951377      43.136436  79.197653 -61.742653    -198.26963   \n5      51.688498      43.124168  83.248504  -61.90146    -197.02734   \n6      36.342195      40.124168  81.013631 -85.172243    -262.28455   \n7      37.756551      38.124168  79.938631 -66.005973    -190.89945   \n8      18.269227      40.124168  68.610936 -60.819552     -189.6928   \n9      73.339473      40.124168   84.23657 -58.892804      -187.063   \n10     73.260015      38.124168  89.528816 -62.375596    -183.23806   \n11     89.916423      40.124168  84.606145 -88.105313    -278.49883   \n\n   contract_staff_costs expenses t_technical_staff contract_staff  \\\n0              -19.2302 -4.81426         44.451436              3   \n1              -24.3862 -6.65408         44.451436              3   \n2                 -32.4 -3.49723         44.451436              3   \n3                -22.21 -4.59734         43.451436              3   \n4              -18.7048 -4.97207         41.136436              2   \n5               -19.362 -6.06474         41.124168              2   \n6             -17.43072 -5.07351         38.124168              2   \n7             -16.81216 -1.99029         37.124168              1   \n8               -10.244 -3.42436         39.124168              1   \n9             -11.04956  1.19383         39.124168              1   \n10                  -11 -3.93008         37.124168              1   \n11             -11.7729  -4.3243         39.124168              1   \n\n   total_headcount  \n0        47.451436  \n1        47.451436  \n2        47.451436  \n3        46.451436  \n4        43.136436  \n5        43.124168  \n6        40.124168  \n7        38.124168  \n8        40.124168  \n9        40.124168  \n10       38.124168  \n11       40.124168  \n\n[12 rows x 23 columns]",
      "text/html": "<div>\n<style scoped>\n    .dataframe tbody tr th:only-of-type {\n        vertical-align: middle;\n    }\n\n    .dataframe tbody tr th {\n        vertical-align: top;\n    }\n\n    .dataframe thead th {\n        text-align: right;\n    }\n</style>\n<table border=\"1\" class=\"dataframe\">\n  <thead>\n    <tr style=\"text-align: right;\">\n      <th></th>\n      <th>secured</th>\n      <th>probable</th>\n      <th>possible</th>\n      <th>speculative</th>\n      <th>biso</th>\n      <th>budget_income</th>\n      <th>other_direct_costs</th>\n      <th>direct_costs</th>\n      <th>gross_profit</th>\n      <th>budget_profit</th>\n      <th>...</th>\n      <th>budget profit</th>\n      <th>tech_headcount</th>\n      <th>income/hd</th>\n      <th>cost/hd</th>\n      <th>t_staff_costs</th>\n      <th>contract_staff_costs</th>\n      <th>expenses</th>\n      <th>t_technical_staff</th>\n      <th>contract_staff</th>\n      <th>total_headcount</th>\n    </tr>\n  </thead>\n  <tbody>\n    <tr>\n      <th>0</th>\n      <td>327.62628</td>\n      <td>NaN</td>\n      <td>NaN</td>\n      <td>NaN</td>\n      <td>0</td>\n      <td>327</td>\n      <td>-192.95897</td>\n      <td>-192.95897</td>\n      <td>134.66731</td>\n      <td>130.913071</td>\n      <td>...</td>\n      <td>89.350302</td>\n      <td>47.451436</td>\n      <td>82.853454</td>\n      <td>-48.79742</td>\n      <td>-168.91451</td>\n      <td>-19.2302</td>\n      <td>-4.81426</td>\n      <td>44.451436</td>\n      <td>3</td>\n      <td>47.451436</td>\n    </tr>\n    <tr>\n      <th>1</th>\n      <td>310.62415</td>\n      <td>NaN</td>\n      <td>NaN</td>\n      <td>NaN</td>\n      <td>0</td>\n      <td>335</td>\n      <td>-203.26208</td>\n      <td>-203.26208</td>\n      <td>107.36207</td>\n      <td>145.448787</td>\n      <td>...</td>\n      <td>102.983233</td>\n      <td>47.451436</td>\n      <td>78.553783</td>\n      <td>-51.402975</td>\n      <td>-172.2218</td>\n      <td>-24.3862</td>\n      <td>-6.65408</td>\n      <td>44.451436</td>\n      <td>3</td>\n      <td>47.451436</td>\n    </tr>\n    <tr>\n      <th>2</th>\n      <td>342.78931</td>\n      <td>NaN</td>\n      <td>NaN</td>\n      <td>NaN</td>\n      <td>0</td>\n      <td>339</td>\n      <td>-223.41445</td>\n      <td>-223.41445</td>\n      <td>119.37486</td>\n      <td>140.36377</td>\n      <td>...</td>\n      <td>96.231208</td>\n      <td>47.451436</td>\n      <td>86.688034</td>\n      <td>-56.49931</td>\n      <td>-187.51722</td>\n      <td>-32.4</td>\n      <td>-3.49723</td>\n      <td>44.451436</td>\n      <td>3</td>\n      <td>47.451436</td>\n    </tr>\n    <tr>\n      <th>3</th>\n      <td>359.12084</td>\n      <td>NaN</td>\n      <td>NaN</td>\n      <td>NaN</td>\n      <td>0</td>\n      <td>339</td>\n      <td>-241.03062</td>\n      <td>-241.03062</td>\n      <td>118.09022</td>\n      <td>92.033996</td>\n      <td>...</td>\n      <td>38.607935</td>\n      <td>46.451436</td>\n      <td>92.773237</td>\n      <td>-62.266481</td>\n      <td>-214.22328</td>\n      <td>-22.21</td>\n      <td>-4.59734</td>\n      <td>43.451436</td>\n      <td>3</td>\n      <td>46.451436</td>\n    </tr>\n    <tr>\n      <th>4</th>\n      <td>284.69204</td>\n      <td>NaN</td>\n      <td>NaN</td>\n      <td>NaN</td>\n      <td>0</td>\n      <td>348</td>\n      <td>-221.9465</td>\n      <td>-221.9465</td>\n      <td>62.74554</td>\n      <td>90.514258</td>\n      <td>...</td>\n      <td>36.951377</td>\n      <td>43.136436</td>\n      <td>79.197653</td>\n      <td>-61.742653</td>\n      <td>-198.26963</td>\n      <td>-18.7048</td>\n      <td>-4.97207</td>\n      <td>41.136436</td>\n      <td>2</td>\n      <td>43.136436</td>\n    </tr>\n    <tr>\n      <th>5</th>\n      <td>299.16854</td>\n      <td>NaN</td>\n      <td>NaN</td>\n      <td>NaN</td>\n      <td>0</td>\n      <td>364</td>\n      <td>-222.45408</td>\n      <td>-222.45408</td>\n      <td>76.71446</td>\n      <td>104.867842</td>\n      <td>...</td>\n      <td>51.688498</td>\n      <td>43.124168</td>\n      <td>83.248504</td>\n      <td>-61.90146</td>\n      <td>-197.02734</td>\n      <td>-19.362</td>\n      <td>-6.06474</td>\n      <td>41.124168</td>\n      <td>2</td>\n      <td>43.124168</td>\n    </tr>\n    <tr>\n      <th>6</th>\n      <td>270.88371</td>\n      <td>NaN</td>\n      <td>NaN</td>\n      <td>NaN</td>\n      <td>0</td>\n      <td>351</td>\n      <td>-284.78878</td>\n      <td>-284.78878</td>\n      <td>-13.90507</td>\n      <td>93.514258</td>\n      <td>...</td>\n      <td>36.342195</td>\n      <td>40.124168</td>\n      <td>81.013631</td>\n      <td>-85.172243</td>\n      <td>-262.28455</td>\n      <td>-17.43072</td>\n      <td>-5.07351</td>\n      <td>38.124168</td>\n      <td>2</td>\n      <td>40.124168</td>\n    </tr>\n    <tr>\n      <th>7</th>\n      <td>253.96615</td>\n      <td>NaN</td>\n      <td>NaN</td>\n      <td>NaN</td>\n      <td>0</td>\n      <td>354</td>\n      <td>-209.7019</td>\n      <td>-209.7019</td>\n      <td>44.26425</td>\n      <td>97.814258</td>\n      <td>...</td>\n      <td>37.756551</td>\n      <td>38.124168</td>\n      <td>79.938631</td>\n      <td>-66.005973</td>\n      <td>-190.89945</td>\n      <td>-16.81216</td>\n      <td>-1.99029</td>\n      <td>37.124168</td>\n      <td>1</td>\n      <td>38.124168</td>\n    </tr>\n    <tr>\n      <th>8</th>\n      <td>229.41306</td>\n      <td>NaN</td>\n      <td>NaN</td>\n      <td>NaN</td>\n      <td>0</td>\n      <td>335</td>\n      <td>-203.36116</td>\n      <td>-203.36116</td>\n      <td>26.0519</td>\n      <td>75.867842</td>\n      <td>...</td>\n      <td>18.269227</td>\n      <td>40.124168</td>\n      <td>68.610936</td>\n      <td>-60.819552</td>\n      <td>-189.6928</td>\n      <td>-10.244</td>\n      <td>-3.42436</td>\n      <td>39.124168</td>\n      <td>1</td>\n      <td>40.124168</td>\n    </tr>\n    <tr>\n      <th>9</th>\n      <td>281.66019</td>\n      <td>NaN</td>\n      <td>NaN</td>\n      <td>NaN</td>\n      <td>0</td>\n      <td>388</td>\n      <td>-196.91873</td>\n      <td>-196.91873</td>\n      <td>84.74146</td>\n      <td>129.514258</td>\n      <td>...</td>\n      <td>73.339473</td>\n      <td>40.124168</td>\n      <td>84.23657</td>\n      <td>-58.892804</td>\n      <td>-187.063</td>\n      <td>-11.04956</td>\n      <td>1.19383</td>\n      <td>39.124168</td>\n      <td>1</td>\n      <td>40.124168</td>\n    </tr>\n    <tr>\n      <th>10</th>\n      <td>284.4343</td>\n      <td>NaN</td>\n      <td>NaN</td>\n      <td>NaN</td>\n      <td>0</td>\n      <td>388</td>\n      <td>-198.16814</td>\n      <td>-198.16814</td>\n      <td>86.26616</td>\n      <td>129.414258</td>\n      <td>...</td>\n      <td>73.260015</td>\n      <td>38.124168</td>\n      <td>89.528816</td>\n      <td>-62.375596</td>\n      <td>-183.23806</td>\n      <td>-11</td>\n      <td>-3.93008</td>\n      <td>37.124168</td>\n      <td>1</td>\n      <td>38.124168</td>\n    </tr>\n    <tr>\n      <th>11</th>\n      <td>282.89593</td>\n      <td>NaN</td>\n      <td>NaN</td>\n      <td>NaN</td>\n      <td>0</td>\n      <td>399</td>\n      <td>-294.59603</td>\n      <td>-294.59603</td>\n      <td>-11.7001</td>\n      <td>147.000026</td>\n      <td>...</td>\n      <td>89.916423</td>\n      <td>40.124168</td>\n      <td>84.606145</td>\n      <td>-88.105313</td>\n      <td>-278.49883</td>\n      <td>-11.7729</td>\n      <td>-4.3243</td>\n      <td>39.124168</td>\n      <td>1</td>\n      <td>40.124168</td>\n    </tr>\n  </tbody>\n</table>\n<p>12 rows × 23 columns</p>\n</div>"
     },
     "execution_count": 14,
     "metadata": {},
     "output_type": "execute_result"
    }
   ],
   "source": [
    "extracted_data"
   ],
   "metadata": {
    "collapsed": false,
    "ExecuteTime": {
     "end_time": "2024-06-11T22:58:27.891344Z",
     "start_time": "2024-06-11T22:58:27.866345Z"
    }
   },
   "id": "e9ecc6cf78911148",
   "execution_count": 14
  },
  {
   "cell_type": "code",
   "outputs": [
    {
     "ename": "KeyError",
     "evalue": "\"['Division'] not found in axis\"",
     "output_type": "error",
     "traceback": [
      "\u001B[1;31m---------------------------------------------------------------------------\u001B[0m",
      "\u001B[1;31mKeyError\u001B[0m                                  Traceback (most recent call last)",
      "Cell \u001B[1;32mIn[3], line 18\u001B[0m\n\u001B[0;32m     14\u001B[0m     \u001B[38;5;28;01mreturn\u001B[39;00m has_missing, rows_with_missing\n\u001B[0;32m     17\u001B[0m exclude_column \u001B[38;5;241m=\u001B[39m \u001B[38;5;124m'\u001B[39m\u001B[38;5;124mDivision\u001B[39m\u001B[38;5;124m'\u001B[39m\n\u001B[1;32m---> 18\u001B[0m has_missing, rows_with_missing \u001B[38;5;241m=\u001B[39m \u001B[43mcheck_missing_values\u001B[49m\u001B[43m(\u001B[49m\u001B[43mdata\u001B[49m\u001B[43m,\u001B[49m\u001B[43m \u001B[49m\u001B[43mexclude_column\u001B[49m\u001B[43m)\u001B[49m\n\u001B[0;32m     20\u001B[0m \u001B[38;5;28mprint\u001B[39m(\u001B[38;5;124mf\u001B[39m\u001B[38;5;124m\"\u001B[39m\u001B[38;5;124mDataframe has missing values (excluding \u001B[39m\u001B[38;5;124m'\u001B[39m\u001B[38;5;132;01m{\u001B[39;00mexclude_column\u001B[38;5;132;01m}\u001B[39;00m\u001B[38;5;124m'\u001B[39m\u001B[38;5;124m): \u001B[39m\u001B[38;5;132;01m{\u001B[39;00mhas_missing\u001B[38;5;132;01m}\u001B[39;00m\u001B[38;5;124m\"\u001B[39m)\n\u001B[0;32m     21\u001B[0m \u001B[38;5;28mprint\u001B[39m(\u001B[38;5;124m\"\u001B[39m\u001B[38;5;124mRows with missing values:\u001B[39m\u001B[38;5;124m\"\u001B[39m)\n",
      "Cell \u001B[1;32mIn[3], line 5\u001B[0m, in \u001B[0;36mcheck_missing_values\u001B[1;34m(df, exclude_column)\u001B[0m\n\u001B[0;32m      3\u001B[0m \u001B[38;5;28;01mdef\u001B[39;00m \u001B[38;5;21mcheck_missing_values\u001B[39m(df, exclude_column):\n\u001B[0;32m      4\u001B[0m     \u001B[38;5;66;03m# Create a boolean mask that ignores the specified column\u001B[39;00m\n\u001B[1;32m----> 5\u001B[0m     mask \u001B[38;5;241m=\u001B[39m \u001B[43mdf\u001B[49m\u001B[38;5;241;43m.\u001B[39;49m\u001B[43mdrop\u001B[49m\u001B[43m(\u001B[49m\u001B[43mcolumns\u001B[49m\u001B[38;5;241;43m=\u001B[39;49m\u001B[43m[\u001B[49m\u001B[43mexclude_column\u001B[49m\u001B[43m]\u001B[49m\u001B[43m)\u001B[49m\u001B[38;5;241m.\u001B[39misnull()\n\u001B[0;32m      7\u001B[0m     \u001B[38;5;66;03m# Check if there are any missing values in the mask\u001B[39;00m\n\u001B[0;32m      8\u001B[0m     has_missing \u001B[38;5;241m=\u001B[39m mask\u001B[38;5;241m.\u001B[39many()\u001B[38;5;241m.\u001B[39many()\n",
      "File \u001B[1;32m~\\anaconda3\\envs\\Prepare\\lib\\site-packages\\pandas\\core\\frame.py:5258\u001B[0m, in \u001B[0;36mDataFrame.drop\u001B[1;34m(self, labels, axis, index, columns, level, inplace, errors)\u001B[0m\n\u001B[0;32m   5110\u001B[0m \u001B[38;5;28;01mdef\u001B[39;00m \u001B[38;5;21mdrop\u001B[39m(\n\u001B[0;32m   5111\u001B[0m     \u001B[38;5;28mself\u001B[39m,\n\u001B[0;32m   5112\u001B[0m     labels: IndexLabel \u001B[38;5;241m=\u001B[39m \u001B[38;5;28;01mNone\u001B[39;00m,\n\u001B[1;32m   (...)\u001B[0m\n\u001B[0;32m   5119\u001B[0m     errors: IgnoreRaise \u001B[38;5;241m=\u001B[39m \u001B[38;5;124m\"\u001B[39m\u001B[38;5;124mraise\u001B[39m\u001B[38;5;124m\"\u001B[39m,\n\u001B[0;32m   5120\u001B[0m ) \u001B[38;5;241m-\u001B[39m\u001B[38;5;241m>\u001B[39m DataFrame \u001B[38;5;241m|\u001B[39m \u001B[38;5;28;01mNone\u001B[39;00m:\n\u001B[0;32m   5121\u001B[0m \u001B[38;5;250m    \u001B[39m\u001B[38;5;124;03m\"\"\"\u001B[39;00m\n\u001B[0;32m   5122\u001B[0m \u001B[38;5;124;03m    Drop specified labels from rows or columns.\u001B[39;00m\n\u001B[0;32m   5123\u001B[0m \n\u001B[1;32m   (...)\u001B[0m\n\u001B[0;32m   5256\u001B[0m \u001B[38;5;124;03m            weight  1.0     0.8\u001B[39;00m\n\u001B[0;32m   5257\u001B[0m \u001B[38;5;124;03m    \"\"\"\u001B[39;00m\n\u001B[1;32m-> 5258\u001B[0m     \u001B[38;5;28;01mreturn\u001B[39;00m \u001B[38;5;28;43msuper\u001B[39;49m\u001B[43m(\u001B[49m\u001B[43m)\u001B[49m\u001B[38;5;241;43m.\u001B[39;49m\u001B[43mdrop\u001B[49m\u001B[43m(\u001B[49m\n\u001B[0;32m   5259\u001B[0m \u001B[43m        \u001B[49m\u001B[43mlabels\u001B[49m\u001B[38;5;241;43m=\u001B[39;49m\u001B[43mlabels\u001B[49m\u001B[43m,\u001B[49m\n\u001B[0;32m   5260\u001B[0m \u001B[43m        \u001B[49m\u001B[43maxis\u001B[49m\u001B[38;5;241;43m=\u001B[39;49m\u001B[43maxis\u001B[49m\u001B[43m,\u001B[49m\n\u001B[0;32m   5261\u001B[0m \u001B[43m        \u001B[49m\u001B[43mindex\u001B[49m\u001B[38;5;241;43m=\u001B[39;49m\u001B[43mindex\u001B[49m\u001B[43m,\u001B[49m\n\u001B[0;32m   5262\u001B[0m \u001B[43m        \u001B[49m\u001B[43mcolumns\u001B[49m\u001B[38;5;241;43m=\u001B[39;49m\u001B[43mcolumns\u001B[49m\u001B[43m,\u001B[49m\n\u001B[0;32m   5263\u001B[0m \u001B[43m        \u001B[49m\u001B[43mlevel\u001B[49m\u001B[38;5;241;43m=\u001B[39;49m\u001B[43mlevel\u001B[49m\u001B[43m,\u001B[49m\n\u001B[0;32m   5264\u001B[0m \u001B[43m        \u001B[49m\u001B[43minplace\u001B[49m\u001B[38;5;241;43m=\u001B[39;49m\u001B[43minplace\u001B[49m\u001B[43m,\u001B[49m\n\u001B[0;32m   5265\u001B[0m \u001B[43m        \u001B[49m\u001B[43merrors\u001B[49m\u001B[38;5;241;43m=\u001B[39;49m\u001B[43merrors\u001B[49m\u001B[43m,\u001B[49m\n\u001B[0;32m   5266\u001B[0m \u001B[43m    \u001B[49m\u001B[43m)\u001B[49m\n",
      "File \u001B[1;32m~\\anaconda3\\envs\\Prepare\\lib\\site-packages\\pandas\\core\\generic.py:4549\u001B[0m, in \u001B[0;36mNDFrame.drop\u001B[1;34m(self, labels, axis, index, columns, level, inplace, errors)\u001B[0m\n\u001B[0;32m   4547\u001B[0m \u001B[38;5;28;01mfor\u001B[39;00m axis, labels \u001B[38;5;129;01min\u001B[39;00m axes\u001B[38;5;241m.\u001B[39mitems():\n\u001B[0;32m   4548\u001B[0m     \u001B[38;5;28;01mif\u001B[39;00m labels \u001B[38;5;129;01mis\u001B[39;00m \u001B[38;5;129;01mnot\u001B[39;00m \u001B[38;5;28;01mNone\u001B[39;00m:\n\u001B[1;32m-> 4549\u001B[0m         obj \u001B[38;5;241m=\u001B[39m \u001B[43mobj\u001B[49m\u001B[38;5;241;43m.\u001B[39;49m\u001B[43m_drop_axis\u001B[49m\u001B[43m(\u001B[49m\u001B[43mlabels\u001B[49m\u001B[43m,\u001B[49m\u001B[43m \u001B[49m\u001B[43maxis\u001B[49m\u001B[43m,\u001B[49m\u001B[43m \u001B[49m\u001B[43mlevel\u001B[49m\u001B[38;5;241;43m=\u001B[39;49m\u001B[43mlevel\u001B[49m\u001B[43m,\u001B[49m\u001B[43m \u001B[49m\u001B[43merrors\u001B[49m\u001B[38;5;241;43m=\u001B[39;49m\u001B[43merrors\u001B[49m\u001B[43m)\u001B[49m\n\u001B[0;32m   4551\u001B[0m \u001B[38;5;28;01mif\u001B[39;00m inplace:\n\u001B[0;32m   4552\u001B[0m     \u001B[38;5;28mself\u001B[39m\u001B[38;5;241m.\u001B[39m_update_inplace(obj)\n",
      "File \u001B[1;32m~\\anaconda3\\envs\\Prepare\\lib\\site-packages\\pandas\\core\\generic.py:4591\u001B[0m, in \u001B[0;36mNDFrame._drop_axis\u001B[1;34m(self, labels, axis, level, errors, only_slice)\u001B[0m\n\u001B[0;32m   4589\u001B[0m         new_axis \u001B[38;5;241m=\u001B[39m axis\u001B[38;5;241m.\u001B[39mdrop(labels, level\u001B[38;5;241m=\u001B[39mlevel, errors\u001B[38;5;241m=\u001B[39merrors)\n\u001B[0;32m   4590\u001B[0m     \u001B[38;5;28;01melse\u001B[39;00m:\n\u001B[1;32m-> 4591\u001B[0m         new_axis \u001B[38;5;241m=\u001B[39m \u001B[43maxis\u001B[49m\u001B[38;5;241;43m.\u001B[39;49m\u001B[43mdrop\u001B[49m\u001B[43m(\u001B[49m\u001B[43mlabels\u001B[49m\u001B[43m,\u001B[49m\u001B[43m \u001B[49m\u001B[43merrors\u001B[49m\u001B[38;5;241;43m=\u001B[39;49m\u001B[43merrors\u001B[49m\u001B[43m)\u001B[49m\n\u001B[0;32m   4592\u001B[0m     indexer \u001B[38;5;241m=\u001B[39m axis\u001B[38;5;241m.\u001B[39mget_indexer(new_axis)\n\u001B[0;32m   4594\u001B[0m \u001B[38;5;66;03m# Case for non-unique axis\u001B[39;00m\n\u001B[0;32m   4595\u001B[0m \u001B[38;5;28;01melse\u001B[39;00m:\n",
      "File \u001B[1;32m~\\anaconda3\\envs\\Prepare\\lib\\site-packages\\pandas\\core\\indexes\\base.py:6699\u001B[0m, in \u001B[0;36mIndex.drop\u001B[1;34m(self, labels, errors)\u001B[0m\n\u001B[0;32m   6697\u001B[0m \u001B[38;5;28;01mif\u001B[39;00m mask\u001B[38;5;241m.\u001B[39many():\n\u001B[0;32m   6698\u001B[0m     \u001B[38;5;28;01mif\u001B[39;00m errors \u001B[38;5;241m!=\u001B[39m \u001B[38;5;124m\"\u001B[39m\u001B[38;5;124mignore\u001B[39m\u001B[38;5;124m\"\u001B[39m:\n\u001B[1;32m-> 6699\u001B[0m         \u001B[38;5;28;01mraise\u001B[39;00m \u001B[38;5;167;01mKeyError\u001B[39;00m(\u001B[38;5;124mf\u001B[39m\u001B[38;5;124m\"\u001B[39m\u001B[38;5;132;01m{\u001B[39;00m\u001B[38;5;28mlist\u001B[39m(labels[mask])\u001B[38;5;132;01m}\u001B[39;00m\u001B[38;5;124m not found in axis\u001B[39m\u001B[38;5;124m\"\u001B[39m)\n\u001B[0;32m   6700\u001B[0m     indexer \u001B[38;5;241m=\u001B[39m indexer[\u001B[38;5;241m~\u001B[39mmask]\n\u001B[0;32m   6701\u001B[0m \u001B[38;5;28;01mreturn\u001B[39;00m \u001B[38;5;28mself\u001B[39m\u001B[38;5;241m.\u001B[39mdelete(indexer)\n",
      "\u001B[1;31mKeyError\u001B[0m: \"['Division'] not found in axis\""
     ]
    }
   ],
   "source": [
    "import pandas as pd\n",
    "\n",
    "def check_missing_values(df, exclude_column):\n",
    "    # Create a boolean mask that ignores the specified column\n",
    "    mask = df.drop(columns=[exclude_column]).isnull()\n",
    "\n",
    "    # Check if there are any missing values in the mask\n",
    "    has_missing = mask.any().any()\n",
    "\n",
    "    # Get the rows that have missing values\n",
    "    var_name = f\"{file_path}_missing\"\n",
    "    globals()[var_name] = df[mask.any(axis=1)]\n",
    "\n",
    "    return has_missing, rows_with_missing\n",
    "\n",
    "\n",
    "exclude_column = 'Division'\n",
    "has_missing, rows_with_missing = check_missing_values(data, exclude_column)\n",
    "\n",
    "print(f\"Dataframe has missing values (excluding '{exclude_column}'): {has_missing}\")\n",
    "print(\"Rows with missing values:\")\n",
    "print(rows_with_missing)"
   ],
   "metadata": {
    "collapsed": false,
    "ExecuteTime": {
     "end_time": "2024-06-13T17:02:00.570487Z",
     "start_time": "2024-06-13T17:01:58.893231Z"
    }
   },
   "id": "736dadc99695f2bf",
   "execution_count": 3
  }
 ],
 "metadata": {
  "kernelspec": {
   "display_name": "Python 3",
   "language": "python",
   "name": "python3"
  },
  "language_info": {
   "codemirror_mode": {
    "name": "ipython",
    "version": 2
   },
   "file_extension": ".py",
   "mimetype": "text/x-python",
   "name": "python",
   "nbconvert_exporter": "python",
   "pygments_lexer": "ipython2",
   "version": "2.7.6"
  }
 },
 "nbformat": 4,
 "nbformat_minor": 5
}

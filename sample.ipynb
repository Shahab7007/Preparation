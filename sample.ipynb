{
 "cells": [
  {
   "cell_type": "code",
   "execution_count": 1,
   "id": "initial_id",
   "metadata": {
    "collapsed": true,
    "ExecuteTime": {
     "end_time": "2024-06-15T19:03:43.834419Z",
     "start_time": "2024-06-15T19:03:43.353957Z"
    }
   },
   "outputs": [],
   "source": [
    "import pandas as pd\n",
    "from modules.Date import convert_date, find_starting_point, find_specific_date\n",
    "from modules.Variables import extract_var_columns\n",
    "from modules.Data_Quality import *"
   ]
  },
  {
   "cell_type": "code",
   "outputs": [],
   "source": [
    "end_month = 'Apr'\n",
    "end_year = '2023/24'\n",
    "\n",
    "file_path = \"Blank Forecast Template.xlsx\"\n",
    "# Load the data from the Excel file again, specifying no header to properly identify the row\n",
    "data = pd.read_excel(file_path, sheet_name='CC X', header=None)"
   ],
   "metadata": {
    "collapsed": false
   },
   "id": "43b70b902ce95905",
   "execution_count": null
  },
  {
   "cell_type": "code",
   "outputs": [],
   "source": [
    "start_month, start_year, row, start_col = find_starting_point(data)\n",
    "end_row, end_col = find_specific_date(data, end_month, end_year)\n",
    "dates = convert_date(data, row, start_col, end_col)"
   ],
   "metadata": {
    "collapsed": false,
    "ExecuteTime": {
     "end_time": "2024-06-15T19:03:44.571376Z",
     "start_time": "2024-06-15T19:03:44.545376Z"
    }
   },
   "id": "4b4175757c31ef77",
   "execution_count": 2
  },
  {
   "cell_type": "code",
   "outputs": [],
   "source": [
    "extracted_data, region, division, cost_centre = extract_var_columns(data, start_col, end_col)"
   ],
   "metadata": {
    "collapsed": false,
    "ExecuteTime": {
     "end_time": "2024-06-15T19:03:45.108609Z",
     "start_time": "2024-06-15T19:03:45.086579Z"
    }
   },
   "id": "5944bfdb545c97e5",
   "execution_count": 3
  },
  {
   "cell_type": "code",
   "outputs": [],
   "source": [
    "final_df = pd.DataFrame({'Date': dates})\n",
    "final_df = pd.concat([final_df, extracted_data.reset_index(drop=True)], axis=1)\n",
    "num_col = len(final_df.columns)\n",
    "has_missing, rows_with_missing = check_missing_values(final_df, exclude_column)\n",
    "duplicated = check_duplicates(final_df)\n",
    "incorrect_relationship = check_relationships(final_df)\n",
    "\n",
    "var_name = f\"{file_path}_missing\"\n",
    "globals()[var_name] = rows_with_missing"
   ],
   "metadata": {
    "collapsed": false,
    "ExecuteTime": {
     "end_time": "2024-06-15T19:03:45.732090Z",
     "start_time": "2024-06-15T19:03:45.711571Z"
    }
   },
   "id": "bdbda3b819fc7ceb",
   "execution_count": 4
  },
  {
   "cell_type": "code",
   "outputs": [],
   "source": [
    "file_info = {'file_path': file_path, 'region': region, 'division': division, 'cost_centre': cost_centre, 'num_col':num_col, 'Start month':start_month, 'Start year':start_year, 'row':row, 'End column':end_col, 'missing':has_missing, 'duplicated':duplicated, 'incorrect_relationship':incorrect_relationship}"
   ],
   "metadata": {
    "collapsed": false,
    "ExecuteTime": {
     "end_time": "2024-06-15T19:03:46.327127Z",
     "start_time": "2024-06-15T19:03:46.322129Z"
    }
   },
   "id": "9b507dbf73fe5afe",
   "execution_count": 5
  },
  {
   "cell_type": "code",
   "outputs": [],
   "source": [
    "root = './'\n",
    "output_file = file_path.split('.')[0]\n",
    "prepared_file_path = root+ 'Prepared Data/' + f'{output_file}_ok.csv'\n",
    "final_df.to_csv(prepared_file_path, index=False)"
   ],
   "metadata": {
    "collapsed": false,
    "ExecuteTime": {
     "end_time": "2024-06-15T19:03:49.406997Z",
     "start_time": "2024-06-15T19:03:49.397979Z"
    }
   },
   "id": "5d2a7e8484d40ba0",
   "execution_count": 7
  }
 ],
 "metadata": {
  "kernelspec": {
   "display_name": "Python 3",
   "language": "python",
   "name": "python3"
  },
  "language_info": {
   "codemirror_mode": {
    "name": "ipython",
    "version": 2
   },
   "file_extension": ".py",
   "mimetype": "text/x-python",
   "name": "python",
   "nbconvert_exporter": "python",
   "pygments_lexer": "ipython2",
   "version": "2.7.6"
  }
 },
 "nbformat": 4,
 "nbformat_minor": 5
}

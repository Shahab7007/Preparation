{
 "cells": [
  {
   "cell_type": "code",
   "outputs": [],
   "source": [
    "import pandas as pd\n",
    "from modules.Date2 import *\n",
    "from modules.Variables import  *\n",
    "from modules.Data_Quality import *\n",
    "import os"
   ],
   "metadata": {
    "collapsed": false,
    "ExecuteTime": {
     "end_time": "2024-06-28T10:53:59.998142Z",
     "start_time": "2024-06-28T10:53:59.706383Z"
    }
   },
   "id": "f062c9ac9fadeefb",
   "execution_count": 1
  },
  {
   "cell_type": "code",
   "outputs": [],
   "source": [
    "end_month = 'Apr'\n",
    "end_year = '2023/24'\n",
    "\n",
    "files_info =[]\n",
    "\n",
    "sheet_name = 'Leeds'\n",
    "root = './'\n",
    "input_folder = root+'Input files'\n",
    "output_folder = root+'Prepared Files/'\n",
    "combined_folder = root+'Combined files/'\n",
    "directory = os.fsencode(input_folder)\n",
    "num = 0"
   ],
   "metadata": {
    "collapsed": false,
    "ExecuteTime": {
     "end_time": "2024-06-28T12:00:37.962347Z",
     "start_time": "2024-06-28T12:00:37.945334Z"
    }
   },
   "id": "39adcd6fc97404ac",
   "execution_count": 5
  },
  {
   "cell_type": "code",
   "outputs": [],
   "source": [
    "dataframes = []\n",
    "for file in os.listdir(directory):\n",
    "    filename = os.fsdecode(file)\n",
    "    if filename.endswith(\".xlsx\") or filename.endswith(\".xls\") or filename.endswith(\".xlsm\"):\n",
    "        num +=1\n",
    "        file_path = os.path.join(input_folder, filename)\n",
    "        # Load the data from the Excel file again, specifying no header to properly identify the row\n",
    "        data = pd.read_excel(file_path, sheet_name= sheet_name, header=None)\n",
    "        start_month, start_year, row, start_col = find_starting_point(data)\n",
    "        end_row, end_col = find_specific_date(data, end_month, end_year)\n",
    "        dates = convert_date(data, row, start_col, end_col)\n",
    "        extracted_data = extract_var_columns(data, start_col, end_col)\n",
    "        extracted_data, region, division, cost_centre = get_metadata(extracted_data, filename, sheet_name)\n",
    "        final_df = pd.DataFrame({'Date': dates})\n",
    "        final_df = pd.concat([final_df, extracted_data.reset_index(drop=True)], axis=1)\n",
    "        num_col = len(final_df.columns)\n",
    "        has_missing, rows_with_missing = check_missing_values(final_df, exclude_column)\n",
    "        duplicated = check_duplicates(final_df)\n",
    "        incorrect_relationship = check_relationships(final_df)\n",
    "        \n",
    "        var_name = f\"{filename}_missing\"\n",
    "        globals()[var_name] = rows_with_missing\n",
    "        \n",
    "        file_info = {'file_name': filename.split('.')[0], \n",
    "                     'num': num,\n",
    "                     'region': region, \n",
    "                     'division': division,\n",
    "                     'cost_centre': cost_centre, \n",
    "                     'num_col':num_col, \n",
    "                     'Start month':start_month, \n",
    "                     'Start year':start_year, \n",
    "                     'row':row, \n",
    "                     'End column':end_col, \n",
    "                     'missing':has_missing, \n",
    "                     'duplicated':duplicated, \n",
    "                     'incorrect_relationship':incorrect_relationship}\n",
    "        \n",
    "        files_info.append(file_info)\n",
    "        dataframes.append(final_df)\n",
    "        output_file = filename.split('.')[0]\n",
    "        output_file = output_file.split('-')[1].strip() +'_' + sheet_name\n",
    "        prepared_file_path = output_folder + f'{output_file}_ok.csv'\n",
    "        final_df.to_csv(prepared_file_path, index=False)\n",
    "files_info = pd.DataFrame(files_info)\n",
    "files_info.to_csv('files_info.csv', index=False)"
   ],
   "metadata": {
    "collapsed": false,
    "ExecuteTime": {
     "end_time": "2024-06-28T12:00:42.546209Z",
     "start_time": "2024-06-28T12:00:42.151865Z"
    }
   },
   "id": "870ab02f4cae911f",
   "execution_count": 6
  },
  {
   "cell_type": "code",
   "outputs": [],
   "source": [
    "combined_df = pd.concat(dataframes, ignore_index=True)\n",
    "combined_csv_path = combined_folder + 'combined_file_leeds.csv'\n",
    "combined_df.to_csv(combined_csv_path, index = True)"
   ],
   "metadata": {
    "collapsed": false,
    "ExecuteTime": {
     "end_time": "2024-06-15T23:35:14.928914Z",
     "start_time": "2024-06-15T23:35:14.914327Z"
    }
   },
   "id": "774dd171dd9f8c5b",
   "execution_count": 4
  },
  {
   "cell_type": "code",
   "outputs": [],
   "source": [
    "for file in os.listdir(directory):\n",
    "    filename = os.fsdecode(file)\n",
    "    if filename.endswith(\".xlsx\") or filename.endswith(\".xls\") or filename.endswith(\".xlsm\"):\n",
    "        num +=1\n",
    "        file_path = os.path.join(input_folder, filename)\n",
    "        # Load the data from the Excel file again, specifying no header to properly identify the row\n",
    "        data = pd.read_excel(file_path, sheet_name= sheet_name, header=None)"
   ],
   "metadata": {
    "collapsed": false,
    "ExecuteTime": {
     "end_time": "2024-06-27T20:56:47.158130Z",
     "start_time": "2024-06-27T20:56:46.853344Z"
    }
   },
   "id": "5e24240615ad621d",
   "execution_count": 4
  },
  {
   "cell_type": "code",
   "outputs": [],
   "source": [
    "check_missing_values(df, exclude_column)"
   ],
   "metadata": {
    "collapsed": false
   },
   "id": "68044ae279e8f7d7"
  },
  {
   "cell_type": "markdown",
   "source": [],
   "metadata": {
    "collapsed": false
   },
   "id": "662054ef45410d83"
  }
 ],
 "metadata": {
  "kernelspec": {
   "display_name": "Python 3",
   "language": "python",
   "name": "python3"
  },
  "language_info": {
   "codemirror_mode": {
    "name": "ipython",
    "version": 2
   },
   "file_extension": ".py",
   "mimetype": "text/x-python",
   "name": "python",
   "nbconvert_exporter": "python",
   "pygments_lexer": "ipython2",
   "version": "2.7.6"
  }
 },
 "nbformat": 4,
 "nbformat_minor": 5
}

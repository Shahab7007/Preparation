{
 "cells": [
  {
   "cell_type": "code",
   "id": "initial_id",
   "metadata": {
    "collapsed": true,
    "ExecuteTime": {
     "end_time": "2024-07-09T22:41:00.559484Z",
     "start_time": "2024-07-09T22:41:00.185830Z"
    }
   },
   "source": [
    "import pandas as pd\n",
    "import os\n",
    "from modules.Date2 import find_starting_point, find_specific_date, convert_date\n",
    "from modules.variables2 import *\n",
    "from modules.Data_Quality import *\n",
    "from modules.Cost_centre_structure import *"
   ],
   "outputs": [],
   "execution_count": 1
  },
  {
   "cell_type": "code",
   "source": [
    "end_month = 'Apr'\n",
    "end_year = '2023/24'\n",
    "\n",
    "files_info =[]\n",
    "dataframes = []\n",
    "\n",
    "sheet_name = 'Leeds'\n",
    "root = './'\n",
    "input_folder = root+'Input files/' + 'forecast_12_May_2023_input'\n",
    "output_folder = root+'Prepared Files/' + 'Forecasts_12_Month_May_23'\n",
    "combined_folder = root+'Combined files/' +'Forecasts_12_Month_May_23_Combined/'\n",
    "directory = os.fsencode(input_folder)\n",
    "num = 0"
   ],
   "metadata": {
    "collapsed": false,
    "ExecuteTime": {
     "end_time": "2024-07-09T23:31:05.085983Z",
     "start_time": "2024-07-09T23:31:05.073924Z"
    }
   },
   "id": "f8245a729d5fc0c2",
   "outputs": [],
   "execution_count": 21
  },
  {
   "cell_type": "code",
   "source": [
    "def process_file(file_path, division):\n",
    "    global num\n",
    "    xls = pd.ExcelFile(file_path)\n",
    "    subregion_dict = division_to_subregion.get(division)\n",
    "\n",
    "    if not subregion_dict:\n",
    "        print(f\"No subregion dictionary found for division {division}\")\n",
    "        return\n",
    "\n",
    "    for sheet_name in xls.sheet_names:\n",
    "        if any(sheet_name in cost_centres for cost_centres in subregion_dict.values()):\n",
    "            num += 1\n",
    "            # Load the data from the sheet, specifying no header to properly identify the row\n",
    "            data = pd.read_excel(file_path, sheet_name=sheet_name, header=None)\n",
    "            print(division, sheet_name)\n",
    "            start_month, start_year, row, start_col = find_starting_point(data)\n",
    "            end_row, end_col = find_specific_date(data, end_month, end_year)\n",
    "            dates = convert_date(data, row, start_col, end_col)\n",
    "\n",
    "            extracted_data = extract_var_columns(data, start_col, end_col)\n",
    "            extracted_data, region, division, cost_centre = get_metadata(extracted_data, division, sheet_name)\n",
    "            final_df = pd.DataFrame({'Date': dates})\n",
    "            final_df = pd.concat([final_df, extracted_data.reset_index(drop=True)], axis=1)\n",
    "            num_col = len(final_df.columns)\n",
    "            has_missing, rows_with_missing = check_missing_values(final_df, exclude_column)\n",
    "            has_secured_missing = check_missing_secured(final_df)\n",
    "            duplicated = check_duplicates(final_df)\n",
    "            incorrect_relationship = check_relationships(final_df)\n",
    "\n",
    "            var_name = f\"{os.path.basename(file_path)}_{sheet_name}_missing\"\n",
    "            globals()[var_name] = rows_with_missing\n",
    "\n",
    "            file_info = {'file_name': os.path.basename(file_path).split('.')[0],\n",
    "                         'num': num,\n",
    "                         'region': region,\n",
    "                         'division': division,\n",
    "                         'cost_centre': cost_centre,\n",
    "                         'num_col': num_col,\n",
    "                         'Start month': start_month,\n",
    "                         'Start year': start_year,\n",
    "                         'row': row,\n",
    "                         'End column': end_col,\n",
    "                         'missing': has_missing,\n",
    "                         'secured missing': has_secured_missing,\n",
    "                         'duplicated': duplicated,\n",
    "                         'incorrect_relationship': incorrect_relationship}\n",
    "\n",
    "            files_info.append(file_info)\n",
    "            dataframes.append(final_df)\n",
    "            output_file = f\"{division}_{sheet_name.replace(' ', '_')}\"\n",
    "            prepared_file_path = os.path.join(output_folder, f'{output_file}_ok.csv')\n",
    "            final_df.to_csv(prepared_file_path, index=False)"
   ],
   "metadata": {
    "collapsed": false,
    "ExecuteTime": {
     "end_time": "2024-07-09T23:13:55.708999Z",
     "start_time": "2024-07-09T23:13:55.692011Z"
    }
   },
   "id": "6a00976fefe1d1e1",
   "outputs": [],
   "execution_count": 10
  },
  {
   "cell_type": "code",
   "source": [
    "# Main loop to process all files\n",
    "for file in os.listdir(directory):\n",
    "    filename = os.fsdecode(file)\n",
    "    if filename.endswith(\".xlsx\") or filename.endswith(\".xls\") or filename.endswith(\".xlsm\"):\n",
    "        file_path = os.path.join(input_folder, filename)\n",
    "\n",
    "        # Extract division from filename\n",
    "        base_name = os.path.splitext(os.path.basename(file_path))[0]\n",
    "        name_parts = base_name.split('-')\n",
    "        if len(name_parts) > 1:\n",
    "            division = name_parts[1].strip().lower()\n",
    "            process_file(file_path, division)\n",
    "\n",
    "files_info_df = pd.DataFrame(files_info)\n",
    "files_info_df.to_csv('files_info.csv', index=False)"
   ],
   "metadata": {
    "collapsed": false,
    "ExecuteTime": {
     "end_time": "2024-07-09T23:19:19.997866Z",
     "start_time": "2024-07-09T23:13:58.957977Z"
    }
   },
   "id": "466b9dbe92b66c63",
   "outputs": [
    {
     "name": "stdout",
     "output_type": "stream",
     "text": [
      "advisory AFM\n",
      "advisory Pro\n",
      "advisory R&H\n",
      "advisory NZ\n",
      "advisory Proc\n",
      "advisory Disp\n",
      "advisory SHQUK\n",
      "advisory SHQTel\n",
      "advisory Suiko\n",
      "advisory AdvCo\n",
      "amcl Group\n",
      "amcl UK&I\n",
      "amcl AMA\n",
      "amcl Vertex\n",
      "amcl IES\n",
      "cost management Edinburgh\n",
      "cost management Glasgow\n",
      "cost management Belfast\n",
      "cost management NorthEast\n",
      "cost management Leeds\n",
      "cost management NorthWest\n",
      "cost management Sheffield\n",
      "cost management Birmingham\n",
      "cost management Nottingham\n",
      "cost management Bristol\n",
      "cost management Cambridge\n",
      "cost management CLGov\n",
      "cost management HiTech\n",
      "cost management HE\n",
      "cost management Occupier\n",
      "cost management Developer\n",
      "cost management alinea\n",
      "cost management Co\n",
      "infrastructure CM Scotland\n",
      "infrastructure PM Scotland\n",
      "infrastructure PMO Scotland\n",
      "infrastructure CM NW\n",
      "infrastructure PM NW\n",
      "infrastructure PMO NW\n",
      "infrastructure Def Nth\n",
      "infrastructure CM YNE\n",
      "infrastructure PM YNE\n",
      "infrastructure PMO YNE\n",
      "infrastructure CM SE\n",
      "infrastructure PM SE\n",
      "infrastructure PMO SE\n",
      "infrastructure Def SE\n",
      "infrastructure T&U SW\n",
      "infrastructure Def CM SW\n",
      "infrastructure Def P3M SW\n",
      "infrastructure MOD\n",
      "infrastructure Co\n",
      "infrastructure PA\n",
      "infrastructure Digital\n",
      "natural resources NR North\n",
      "natural resources PF\n",
      "project management Edinburgh\n",
      "project management Glasgow\n",
      "project management North East\n",
      "project management Leeds\n",
      "project management North West\n",
      "project management Project Controls\n",
      "project management Sheffield\n",
      "project management Birmingham\n",
      "project management Nottingham\n",
      "project management Bristol\n",
      "project management Cambridge\n",
      "project management CLG\n",
      "project management Hitech\n",
      "project management HE\n",
      "project management Occupier\n",
      "project management Developer\n",
      "project management Pcon Sth\n",
      "project management PMO\n",
      "project management RE Digital\n",
      "project management Co\n"
     ]
    }
   ],
   "execution_count": 11
  },
  {
   "cell_type": "code",
   "source": [
    "len(dataframes)"
   ],
   "metadata": {
    "collapsed": false,
    "ExecuteTime": {
     "end_time": "2024-07-09T23:25:59.794164Z",
     "start_time": "2024-07-09T23:25:59.786150Z"
    }
   },
   "id": "5ef47f41c99ed601",
   "outputs": [
    {
     "data": {
      "text/plain": [
       "76"
      ]
     },
     "execution_count": 12,
     "metadata": {},
     "output_type": "execute_result"
    }
   ],
   "execution_count": 12
  },
  {
   "cell_type": "code",
   "source": [
    "excluded_divisions = ['amcl', 'advisory']  # Add the names of divisions to exclude\n",
    "excluded_cost_centres = ['PM_RE_Digital', 'CM_alinea', 'INF_Def_Nth', 'INF_Def_SE','INF_T&U_SW',\n",
    "                         'INF_Def_CM_SW','INF_Def_P3M_SW', 'INF_Digital', 'PM_Pcon_Sth', 'PM_Co']  # Add the names of cost centres to exclude\n",
    "\n",
    "# Filter dataframes to exclude problematic divisions and cost centres\n",
    "filtered_dataframes = []\n",
    "for df in dataframes:\n",
    "    if df['Division'].iloc[0].lower() not in excluded_divisions and df['Cost_Centre'].iloc[0] not in excluded_cost_centres:\n",
    "        filtered_dataframes.append(df)"
   ],
   "metadata": {
    "collapsed": false,
    "ExecuteTime": {
     "end_time": "2024-07-09T23:26:02.135929Z",
     "start_time": "2024-07-09T23:26:02.123912Z"
    }
   },
   "id": "35d2ef105492eab7",
   "outputs": [],
   "execution_count": 13
  },
  {
   "cell_type": "code",
   "source": [
    "len(filtered_dataframes)"
   ],
   "metadata": {
    "collapsed": false,
    "ExecuteTime": {
     "end_time": "2024-07-09T23:26:04.295940Z",
     "start_time": "2024-07-09T23:26:04.283895Z"
    }
   },
   "id": "c72c7b9a3a20b09",
   "outputs": [
    {
     "data": {
      "text/plain": [
       "51"
      ]
     },
     "execution_count": 14,
     "metadata": {},
     "output_type": "execute_result"
    }
   ],
   "execution_count": 14
  },
  {
   "metadata": {
    "ExecuteTime": {
     "end_time": "2024-07-09T23:26:07.161539Z",
     "start_time": "2024-07-09T23:26:07.134524Z"
    }
   },
   "cell_type": "code",
   "source": "combined_df = pd.concat(filtered_dataframes, ignore_index=True)",
   "id": "8832313f0fb1b486",
   "outputs": [],
   "execution_count": 15
  },
  {
   "metadata": {
    "ExecuteTime": {
     "end_time": "2024-07-09T23:26:10.551028Z",
     "start_time": "2024-07-09T23:26:10.529013Z"
    }
   },
   "cell_type": "code",
   "source": [
    "# Define columns to keep and columns to rename\n",
    "# Calculate `income_ex_biso` if it's not already calculated\n",
    "if 'income_ex_biso' not in combined_df.columns:\n",
    "    combined_df['income_ex_biso'] = combined_df[['secured', 'probable', 'possible', 'speculative']].sum(axis=1)\n",
    "    \n",
    "columns_to_keep = [\n",
    "    'Date','income_ex_biso', 'budget_income', 'direct_costs', 'overheads',\n",
    "    'net_profit', 'budget_profit', 'total_headcount',\n",
    "    'total_income', 'Region', 'Cost_Centre', 'Division' \n",
    "]\n",
    "\n",
    "combined_df = combined_df[columns_to_keep]\n",
    "\n",
    "cols_not_rename = ['Region', 'Cost_Centre', 'Division', 'Date']\n",
    "# Create a list of columns to rename (exclude columns_to_keep and 'Region', 'Cost_Centre', 'Division', 'Date')\n",
    "columns_to_rename = [col for col in combined_df.columns if col not in cols_not_rename]\n",
    "\n",
    "# Dictionary to map old names to new names\n",
    "rename_mapping = {col: col + '_Fcst12' for col in columns_to_rename}\n",
    "\n",
    "# Rename columns in the dataframe\n",
    "combined_df_fcst = combined_df.rename(columns=rename_mapping)"
   ],
   "id": "24014ab94406e692",
   "outputs": [],
   "execution_count": 16
  },
  {
   "metadata": {
    "ExecuteTime": {
     "end_time": "2024-07-09T22:08:39.285889Z",
     "start_time": "2024-07-09T22:08:39.262872Z"
    }
   },
   "cell_type": "code",
   "source": "combined_df.head()",
   "id": "e0c0fae5973329f9",
   "outputs": [
    {
     "data": {
      "text/plain": [
       "        Date income_ex_biso_Fcst12 budget_income_Fcst12  direct_costs_Fcst12  \\\n",
       "0 2020-05-01              64.49199                   81             33.01441   \n",
       "1 2020-06-01              71.80276                   66             42.95780   \n",
       "2 2020-07-01              67.24102                   62             47.51482   \n",
       "3 2020-08-01              75.23662                66.15             53.02678   \n",
       "4 2020-09-01              57.85373                66.51             44.17022   \n",
       "\n",
       "   overheads_Fcst12 net_profit_Fcst12 budget_profit_Fcst12  \\\n",
       "0          13.29881          18.17877            32.995676   \n",
       "1          13.49737          21.52159            17.709312   \n",
       "2          13.20457          16.42747            13.328426   \n",
       "3          17.37175          11.19208             3.188614   \n",
       "4          18.73223           2.77168             3.535208   \n",
       "\n",
       "  total_headcount_Fcst12 total_income_Fcst12         Region   Cost_Centre  \\\n",
       "0                   7.12            64.49199  other_regions  CM_Edinburgh   \n",
       "1                   7.09            77.97676  other_regions  CM_Edinburgh   \n",
       "2                   7.09            77.14686  other_regions  CM_Edinburgh   \n",
       "3                   7.09            81.59061  other_regions  CM_Edinburgh   \n",
       "4                   7.09            65.67413  other_regions  CM_Edinburgh   \n",
       "\n",
       "          Division  \n",
       "0  Cost management  \n",
       "1  Cost management  \n",
       "2  Cost management  \n",
       "3  Cost management  \n",
       "4  Cost management  "
      ],
      "text/html": [
       "<div>\n",
       "<style scoped>\n",
       "    .dataframe tbody tr th:only-of-type {\n",
       "        vertical-align: middle;\n",
       "    }\n",
       "\n",
       "    .dataframe tbody tr th {\n",
       "        vertical-align: top;\n",
       "    }\n",
       "\n",
       "    .dataframe thead th {\n",
       "        text-align: right;\n",
       "    }\n",
       "</style>\n",
       "<table border=\"1\" class=\"dataframe\">\n",
       "  <thead>\n",
       "    <tr style=\"text-align: right;\">\n",
       "      <th></th>\n",
       "      <th>Date</th>\n",
       "      <th>income_ex_biso_Fcst12</th>\n",
       "      <th>budget_income_Fcst12</th>\n",
       "      <th>direct_costs_Fcst12</th>\n",
       "      <th>overheads_Fcst12</th>\n",
       "      <th>net_profit_Fcst12</th>\n",
       "      <th>budget_profit_Fcst12</th>\n",
       "      <th>total_headcount_Fcst12</th>\n",
       "      <th>total_income_Fcst12</th>\n",
       "      <th>Region</th>\n",
       "      <th>Cost_Centre</th>\n",
       "      <th>Division</th>\n",
       "    </tr>\n",
       "  </thead>\n",
       "  <tbody>\n",
       "    <tr>\n",
       "      <th>0</th>\n",
       "      <td>2020-05-01</td>\n",
       "      <td>64.49199</td>\n",
       "      <td>81</td>\n",
       "      <td>33.01441</td>\n",
       "      <td>13.29881</td>\n",
       "      <td>18.17877</td>\n",
       "      <td>32.995676</td>\n",
       "      <td>7.12</td>\n",
       "      <td>64.49199</td>\n",
       "      <td>other_regions</td>\n",
       "      <td>CM_Edinburgh</td>\n",
       "      <td>Cost management</td>\n",
       "    </tr>\n",
       "    <tr>\n",
       "      <th>1</th>\n",
       "      <td>2020-06-01</td>\n",
       "      <td>71.80276</td>\n",
       "      <td>66</td>\n",
       "      <td>42.95780</td>\n",
       "      <td>13.49737</td>\n",
       "      <td>21.52159</td>\n",
       "      <td>17.709312</td>\n",
       "      <td>7.09</td>\n",
       "      <td>77.97676</td>\n",
       "      <td>other_regions</td>\n",
       "      <td>CM_Edinburgh</td>\n",
       "      <td>Cost management</td>\n",
       "    </tr>\n",
       "    <tr>\n",
       "      <th>2</th>\n",
       "      <td>2020-07-01</td>\n",
       "      <td>67.24102</td>\n",
       "      <td>62</td>\n",
       "      <td>47.51482</td>\n",
       "      <td>13.20457</td>\n",
       "      <td>16.42747</td>\n",
       "      <td>13.328426</td>\n",
       "      <td>7.09</td>\n",
       "      <td>77.14686</td>\n",
       "      <td>other_regions</td>\n",
       "      <td>CM_Edinburgh</td>\n",
       "      <td>Cost management</td>\n",
       "    </tr>\n",
       "    <tr>\n",
       "      <th>3</th>\n",
       "      <td>2020-08-01</td>\n",
       "      <td>75.23662</td>\n",
       "      <td>66.15</td>\n",
       "      <td>53.02678</td>\n",
       "      <td>17.37175</td>\n",
       "      <td>11.19208</td>\n",
       "      <td>3.188614</td>\n",
       "      <td>7.09</td>\n",
       "      <td>81.59061</td>\n",
       "      <td>other_regions</td>\n",
       "      <td>CM_Edinburgh</td>\n",
       "      <td>Cost management</td>\n",
       "    </tr>\n",
       "    <tr>\n",
       "      <th>4</th>\n",
       "      <td>2020-09-01</td>\n",
       "      <td>57.85373</td>\n",
       "      <td>66.51</td>\n",
       "      <td>44.17022</td>\n",
       "      <td>18.73223</td>\n",
       "      <td>2.77168</td>\n",
       "      <td>3.535208</td>\n",
       "      <td>7.09</td>\n",
       "      <td>65.67413</td>\n",
       "      <td>other_regions</td>\n",
       "      <td>CM_Edinburgh</td>\n",
       "      <td>Cost management</td>\n",
       "    </tr>\n",
       "  </tbody>\n",
       "</table>\n",
       "</div>"
      ]
     },
     "execution_count": 19,
     "metadata": {},
     "output_type": "execute_result"
    }
   ],
   "execution_count": 19
  },
  {
   "metadata": {
    "ExecuteTime": {
     "end_time": "2024-07-09T23:51:48.854631Z",
     "start_time": "2024-07-09T23:51:47.550263Z"
    }
   },
   "cell_type": "code",
   "source": [
    "# Read the CSV file\n",
    "Folder = root + 'Combined files/'\n",
    "combined_file_path = Folder + 'combined_file_1.csv'\n",
    "combined_file_df = pd.read_csv(combined_file_path)\n",
    "\n",
    "# Ensure date columns are in datetime format\n",
    "combined_file_df['Date'] = pd.to_datetime(combined_file_df['Date'])\n",
    "combined_df_fcst['Date'] = pd.to_datetime(combined_df_fcst['Date'])\n",
    "\n",
    "# Define the date range\n",
    "start_date = '2023-05-01'\n",
    "end_date = '2024-04-01'\n",
    "\n",
    "# Filter combined_df_fcst for the specified date range\n",
    "combined_df_fcst_filtered = combined_df_fcst[\n",
    "    (combined_df_fcst['Date'] >= start_date) & (combined_df_fcst['Date'] <= end_date)\n",
    "    ]\n",
    "\n",
    "# List of columns to add\n",
    "columns_to_add = [\n",
    "    'income_ex_biso_Fcst12', 'budget_income_Fcst12', 'direct_costs_Fcst12',\n",
    "    'overheads_Fcst12', 'net_profit_Fcst12', 'budget_profit_Fcst12',\n",
    "    'total_headcount_Fcst12', 'total_income_Fcst12'\n",
    "]\n",
    "\n",
    "# Add new columns to combined_file_df with NaN values initially\n",
    "for column in columns_to_add:\n",
    "    combined_file_df[column] = pd.NA\n",
    "\n",
    "# Fill in the new columns with values from combined_df_fcst_filtered\n",
    "for index, row in combined_file_df.iterrows():\n",
    "    matching_rows = combined_df_fcst_filtered[\n",
    "        (combined_df_fcst_filtered['Cost_Centre'] == row['Cost_Centre']) &\n",
    "        (combined_df_fcst_filtered['Date'] == row['Date'])\n",
    "        ]\n",
    "    if not matching_rows.empty:\n",
    "        for column in columns_to_add:\n",
    "            combined_file_df.at[index, column] = matching_rows.iloc[0][column]\n",
    "\n",
    "# Display the merged dataframe\n",
    "print(combined_file_df)"
   ],
   "id": "20f8ad4997d1e7a2",
   "outputs": [
    {
     "name": "stdout",
     "output_type": "stream",
     "text": [
      "      Unnamed: 0       Date    secured  probable  possible  speculative  biso  \\\n",
      "0              0 2020-05-01   64.49199       0.0       0.0          0.0   NaN   \n",
      "1              1 2020-06-01   71.80276       0.0       0.0          0.0   NaN   \n",
      "2              2 2020-07-01   67.24102       0.0       0.0          0.0   NaN   \n",
      "3              3 2020-08-01   75.23662       0.0       0.0          0.0   NaN   \n",
      "4              4 2020-09-01   57.85373       0.0       0.0          0.0   NaN   \n",
      "...          ...        ...        ...       ...       ...          ...   ...   \n",
      "2587        2587 2023-12-01  621.60097       0.0       0.0          0.0   NaN   \n",
      "2588        2588 2024-01-01  577.61932       0.0       0.0          0.0   NaN   \n",
      "2589        2589 2024-02-01  661.82891       0.0       0.0          0.0   NaN   \n",
      "2590        2590 2024-03-01  603.66999       0.0       0.0          0.0   NaN   \n",
      "2591        2591 2024-04-01  597.00000       0.0       0.0          0.0   NaN   \n",
      "\n",
      "      budget_income  other_direct_costs  direct_costs  ...  \\\n",
      "0         81.000000           27.176160     33.014410  ...   \n",
      "1         66.000000           31.115800     42.957800  ...   \n",
      "2         62.000000           33.994830     47.514820  ...   \n",
      "3         66.150000           37.217080     53.026780  ...   \n",
      "4         66.510000           39.632740     44.170220  ...   \n",
      "...             ...                 ...           ...  ...   \n",
      "2587     504.458333          390.144740    390.144740  ...   \n",
      "2588     503.458333          387.076710    387.076710  ...   \n",
      "2589     504.458333          396.031480    396.031480  ...   \n",
      "2590     505.458333          394.437150    394.437150  ...   \n",
      "2591     506.458333          395.479186    395.479186  ...   \n",
      "\n",
      "                Division   Cost_Centre  income_ex_biso_Fcst12  \\\n",
      "0        Cost management  CM_Edinburgh                    NaN   \n",
      "1        Cost management  CM_Edinburgh                    NaN   \n",
      "2        Cost management  CM_Edinburgh                    NaN   \n",
      "3        Cost management  CM_Edinburgh                    NaN   \n",
      "4        Cost management  CM_Edinburgh                    NaN   \n",
      "...                  ...           ...                    ...   \n",
      "2587  Project management        PM_PMO                    525   \n",
      "2588  Project management        PM_PMO                  524.5   \n",
      "2589  Project management        PM_PMO                  575.5   \n",
      "2590  Project management        PM_PMO                  576.5   \n",
      "2591  Project management        PM_PMO                  575.5   \n",
      "\n",
      "      budget_income_Fcst12  direct_costs_Fcst12  overheads_Fcst12  \\\n",
      "0                      NaN                  NaN               NaN   \n",
      "1                      NaN                  NaN               NaN   \n",
      "2                      NaN                  NaN               NaN   \n",
      "3                      NaN                  NaN               NaN   \n",
      "4                      NaN                  NaN               NaN   \n",
      "...                    ...                  ...               ...   \n",
      "2587            504.458333            377.96324         96.435072   \n",
      "2588            503.458333            377.96324         96.617534   \n",
      "2589            504.458333            377.96324         94.763587   \n",
      "2590            505.458333            377.96324         94.716291   \n",
      "2591            506.458333            377.96324           94.7991   \n",
      "\n",
      "      net_profit_Fcst12  budget_profit_Fcst12  total_headcount_Fcst12  \\\n",
      "0                   NaN                   NaN                     NaN   \n",
      "1                   NaN                   NaN                     NaN   \n",
      "2                   NaN                   NaN                     NaN   \n",
      "3                   NaN                   NaN                     NaN   \n",
      "4                   NaN                   NaN                     NaN   \n",
      "...                 ...                   ...                     ...   \n",
      "2587          50.601688             52.642351               48.673333   \n",
      "2588          49.919226             51.459889               48.673333   \n",
      "2589         102.773172             54.313836               48.673333   \n",
      "2590         103.820469             55.361132               48.673333   \n",
      "2591         102.737659             56.278323               48.673333   \n",
      "\n",
      "      total_income_Fcst12  \n",
      "0                     NaN  \n",
      "1                     NaN  \n",
      "2                     NaN  \n",
      "3                     NaN  \n",
      "4                     NaN  \n",
      "...                   ...  \n",
      "2587                  525  \n",
      "2588                524.5  \n",
      "2589                575.5  \n",
      "2590                576.5  \n",
      "2591                575.5  \n",
      "\n",
      "[2592 rows x 35 columns]\n"
     ]
    }
   ],
   "execution_count": 26
  },
  {
   "cell_type": "code",
   "source": [
    "# Save the combined dataframe to a CSV file\n",
    "combined_csv_path = combined_folder + 'combined_file_fcst12.csv'\n",
    "combined_file_df.to_csv(combined_csv_path, index=True)\n",
    "\n",
    "excluded_dataframes = [df for df in dataframes if df['Division'].iloc[0] in excluded_divisions or df['Cost_Centre'].iloc[0] in excluded_cost_centres]\n",
    "for df in excluded_dataframes:\n",
    "    print(f\"Excluded Division: {df['Division'].iloc[0]}, Cost Centre: {df['Cost_Centre'].iloc[0]}\")"
   ],
   "metadata": {
    "collapsed": false,
    "ExecuteTime": {
     "end_time": "2024-07-09T23:53:36.892511Z",
     "start_time": "2024-07-09T23:53:36.832936Z"
    }
   },
   "id": "4db496b5dac42ea3",
   "outputs": [],
   "execution_count": 29
  }
 ],
 "metadata": {
  "kernelspec": {
   "display_name": "Python 3",
   "language": "python",
   "name": "python3"
  },
  "language_info": {
   "codemirror_mode": {
    "name": "ipython",
    "version": 2
   },
   "file_extension": ".py",
   "mimetype": "text/x-python",
   "name": "python",
   "nbconvert_exporter": "python",
   "pygments_lexer": "ipython2",
   "version": "2.7.6"
  }
 },
 "nbformat": 4,
 "nbformat_minor": 5
}
